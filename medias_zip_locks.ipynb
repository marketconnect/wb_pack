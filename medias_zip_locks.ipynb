{
 "cells": [
  {
   "cell_type": "code",
   "execution_count": 1,
   "metadata": {},
   "outputs": [],
   "source": [
    "import os\n",
    "import requests\n",
    "import json"
   ]
  },
  {
   "cell_type": "code",
   "execution_count": 27,
   "metadata": {},
   "outputs": [],
   "source": [
    "WB_TOKEN = os.getenv('WB_TOKEN')\n",
    "\n",
    "\n",
    "def upload_single_image_to_wb(file_path, nm_id, api_key, photo_number=1):\n",
    "  \n",
    "    url = \"https://content-api.wildberries.ru/content/v3/media/file\"\n",
    "    \n",
    "    headers = {\n",
    "        \"Authorization\": api_key,\n",
    "        \"X-Nm-Id\": str(nm_id),\n",
    "        \"X-Photo-Number\": str(photo_number)\n",
    "    }\n",
    "    \n",
    "    with open(file_path, \"rb\") as f:\n",
    "        files = {\n",
    "            \"uploadfile\": (os.path.basename(file_path), f, \"image/jpeg\")\n",
    "        }\n",
    "        \n",
    "        try:\n",
    "            response = requests.post(url, headers=headers, files=files)\n",
    "        except requests.RequestException as e:\n",
    "            print(f\"Ошибка при отправке запроса: {e}\")\n",
    "            return\n",
    "        \n",
    "        if response.status_code == 200:\n",
    "            resp_json = response.json()\n",
    "            if not resp_json.get(\"error\", False):\n",
    "                print(f\"Успешно загружено изображение '{os.path.basename(file_path)}' на nmID={nm_id}.\")\n",
    "            else:\n",
    "                print(f\"Ошибка Wildberries при загрузке: {resp_json.get('errorText', 'Неизвестная ошибка')}\")\n",
    "        else:\n",
    "            print(f\"Ошибка ответа сервера. Код: {response.status_code}, файл: {os.path.basename(file_path)}\")\n",
    "\n",
    "def process_vendor_list(vendor_list, images_folder, api_key):\n",
    "    \"\"\"\n",
    "    Проходит по списку vendor_list, проверяет, существует ли соответствующий файл в images_folder,\n",
    "    и при наличии вызывает функцию загрузки на WB.\n",
    "    \n",
    "    :param vendor_list: Список словарей вида [{'nmID': ..., 'vendorCode': ' zip_lock_XXXX_YY'}, ...]\n",
    "    :param images_folder: Путь к папке, где лежат файлы (например, 'images_900_1200').\n",
    "    :param api_key: API-ключ для Wildberries.\n",
    "    \"\"\"\n",
    "    for item in vendor_list:\n",
    "        nm_id = item[\"nmID\"]\n",
    "        vendor_code = item[\"vendorCode\"]\n",
    "        \n",
    "        # Ожидаем формат vendorCode = \"zip_lock_9604677_30\"\n",
    "        # Удаляем \" zip_lock_\" в начале:\n",
    "        # Неподходящий формат vendorCode: 'zip_lock_9604896_100'. Пропускаем.\n",
    "        \n",
    "        if vendor_code.startswith(\"zip_lock_\"):\n",
    "        \n",
    "            code_part = vendor_code[9:]  # \"9604677_30\"\n",
    "            # Разделяем по символу \"_\"\n",
    "            parts = code_part.split(\"_\", maxsplit=1)\n",
    "            if len(parts) == 2:\n",
    "                product_id, quantity_str = parts\n",
    "                # Формируем имя файла: \"9604677-30.jpg\"\n",
    "                image_name = f\"{product_id}-{quantity_str}.jpg\"\n",
    "                file_path = os.path.join(images_folder, image_name)\n",
    "                \n",
    "                # Проверяем, существует ли файл\n",
    "                if os.path.isfile(file_path):\n",
    "                    print(f\"Файл '{image_name}' найден. Загружаем на nmID={nm_id}...\")\n",
    "                    upload_single_image_to_wb(file_path, nm_id, api_key, photo_number=1)\n",
    "                else:\n",
    "                    print(f\"Файл '{image_name}' не найден в папке '{images_folder}'. Пропускаем.\")\n",
    "            else:\n",
    "                print(f\"Неподходящий формат vendorCode: '{vendor_code}'. Пропускаем.\")\n",
    "        else:\n",
    "            print(f\"Неподходящий формат vendorCode: '{vendor_code}'. Пропускаем.\")\n"
   ]
  },
  {
   "cell_type": "code",
   "execution_count": 29,
   "metadata": {},
   "outputs": [],
   "source": [
    "all_cards_list = \"https://content-api.wildberries.ru/content/v2/get/cards/list\"\n",
    "headers = {\n",
    "    \"Authorization\": WB_TOKEN,\n",
    "}\n",
    "body =             {\n",
    "          \"settings\": {                      \n",
    "            \"cursor\": {\n",
    "              \"limit\": 100\n",
    "            },\n",
    "            \"filter\": {\n",
    "              \"withPhoto\": 0\n",
    "            }\n",
    "          }\n",
    "        }\n",
    "\n",
    "\n",
    "resp = requests.post(all_cards_list, headers=headers, json=body)"
   ]
  },
  {
   "cell_type": "code",
   "execution_count": 30,
   "metadata": {},
   "outputs": [
    {
     "data": {
      "text/plain": [
       "{'cards': [{'nmID': 324346455,\n",
       "   'imtID': 305703882,\n",
       "   'nmUUID': '0194c36b-07bd-7deb-b574-b61da75695de',\n",
       "   'subjectID': 3756,\n",
       "   'subjectName': 'Пакеты упаковочные',\n",
       "   'vendorCode': 'zip_lock_9601412_100',\n",
       "   'brand': '',\n",
       "   'title': 'Пакеты Zip Lock с ручкой зеленый металлик 350*350 мм 100 шт',\n",
       "   'description': 'Преимущества:\\nВместительный размер 35*35 см - можно вложить документы формата А4;\\nНаличие прорубных ручек;\\nНепрозрачный цвет (зеленый металлик) скроет от посторонних глаз содержимое пакета.',\n",
       "   'needKiz': False,\n",
       "   'dimensions': {'width': 35, 'height': 2, 'length': 35, 'isValid': True},\n",
       "   'sizes': [{'chrtID': 487209177,\n",
       "     'techSize': '0',\n",
       "     'wbSize': '',\n",
       "     'skus': ['2042713193523']}],\n",
       "   'createdAt': '2025-02-01T21:32:35.745451Z',\n",
       "   'updatedAt': '2025-02-01T21:39:25.366356Z'},\n",
       "  {'nmID': 324346459,\n",
       "   'imtID': 305703885,\n",
       "   'nmUUID': '0194c36b-02ea-78d0-b53e-82557596d07c',\n",
       "   'subjectID': 3756,\n",
       "   'subjectName': 'Пакеты упаковочные',\n",
       "   'vendorCode': 'zip_lock_9601411_100',\n",
       "   'brand': '',\n",
       "   'title': 'Пакеты Zip Lock с ручкой синий металлик 350*350 мм 100 шт',\n",
       "   'description': 'Синий пакет Zip Lock с ручкой, 350*350 мм, 100 мкм – это яркая, практичная и удобная упаковка. Вместительный пакет, изготовленный из прочного полиэтилена, можно использовать для упаковки одежды, сувениров, текстиля. Он защитит товар не только от пыли и влаги, но и от прямых солнечных лучей, которые могут привести к потере вещами своей первоначальной яркости.\\nПреимущества:\\nпрочный материал;\\nгерметичный замок Zip Lock;\\nудобные ручки для переноски пакета.',\n",
       "   'needKiz': False,\n",
       "   'dimensions': {'width': 35, 'height': 2, 'length': 35, 'isValid': True},\n",
       "   'sizes': [{'chrtID': 487209181,\n",
       "     'techSize': '0',\n",
       "     'wbSize': '',\n",
       "     'skus': ['2042713193561']}],\n",
       "   'createdAt': '2025-02-01T21:32:36.165908Z',\n",
       "   'updatedAt': '2025-02-01T21:37:28.216951Z'},\n",
       "  {'nmID': 324346461,\n",
       "   'imtID': 305703887,\n",
       "   'nmUUID': '0194c36b-0208-7e79-b535-bab58abbd691',\n",
       "   'subjectID': 3756,\n",
       "   'subjectName': 'Пакеты упаковочные',\n",
       "   'vendorCode': 'zip_lock_9604019_100',\n",
       "   'brand': '',\n",
       "   'title': 'Дой-пак с zip lock белый 18*24+4 см 100 шт',\n",
       "   'description': 'Фольгированный дой-пак с zip lock предназначен для упаковки всевозможных сыпучих продуктов. Таких, как кофе, чай, какао, другие растворимые напитки. Пакет из фольгированной пленки отлично сохраняет свежесть продукта, многоразовая застежка zip lock герметично закрывает пакет, что очень удобно во время хранения уже открытой упаковки.\\nПреимущества:\\nпрочность;\\nдоступность;\\nпростота вскрытия;\\nвозможность хранить продукт в заводской упаковке.',\n",
       "   'needKiz': False,\n",
       "   'dimensions': {'width': 28, 'height': 2, 'length': 18, 'isValid': True},\n",
       "   'sizes': [{'chrtID': 487209183,\n",
       "     'techSize': '0',\n",
       "     'wbSize': '',\n",
       "     'skus': ['2042713193585']}],\n",
       "   'createdAt': '2025-02-01T21:32:36.548671Z',\n",
       "   'updatedAt': '2025-02-01T21:35:19.497496Z'}],\n",
       " 'cursor': {'updatedAt': '2025-02-01T21:35:19.497496Z',\n",
       "  'nmID': 324346461,\n",
       "  'total': 3}}"
      ]
     },
     "execution_count": 30,
     "metadata": {},
     "output_type": "execute_result"
    }
   ],
   "source": [
    "d = json.loads(resp.text)\n",
    "d"
   ]
  },
  {
   "cell_type": "code",
   "execution_count": 31,
   "metadata": {},
   "outputs": [],
   "source": [
    "newNmIdVendorCodes = [{\"nmID\": row[\"nmID\"], \"vendorCode\": row[\"vendorCode\"]} for row in d[\"cards\"]]"
   ]
  },
  {
   "cell_type": "code",
   "execution_count": 32,
   "metadata": {},
   "outputs": [
    {
     "data": {
      "text/plain": [
       "[{'nmID': 324346455, 'vendorCode': 'zip_lock_9601412_100'},\n",
       " {'nmID': 324346459, 'vendorCode': 'zip_lock_9601411_100'},\n",
       " {'nmID': 324346461, 'vendorCode': 'zip_lock_9604019_100'}]"
      ]
     },
     "execution_count": 32,
     "metadata": {},
     "output_type": "execute_result"
    }
   ],
   "source": [
    "newNmIdVendorCodes"
   ]
  },
  {
   "cell_type": "code",
   "execution_count": 33,
   "metadata": {},
   "outputs": [
    {
     "name": "stdout",
     "output_type": "stream",
     "text": [
      "Файл '9601412-100.jpg' найден. Загружаем на nmID=324346455...\n",
      "Успешно загружено изображение '9601412-100.jpg' на nmID=324346455.\n",
      "Файл '9601411-100.jpg' найден. Загружаем на nmID=324346459...\n",
      "Успешно загружено изображение '9601411-100.jpg' на nmID=324346459.\n",
      "Файл '9604019-100.jpg' найден. Загружаем на nmID=324346461...\n",
      "Успешно загружено изображение '9604019-100.jpg' на nmID=324346461.\n"
     ]
    }
   ],
   "source": [
    "process_vendor_list(newNmIdVendorCodes, \"./zip_locks_images_900_1200\", WB_TOKEN)"
   ]
  },
  {
   "cell_type": "code",
   "execution_count": null,
   "metadata": {},
   "outputs": [],
   "source": []
  }
 ],
 "metadata": {
  "kernelspec": {
   "display_name": "venv",
   "language": "python",
   "name": "python3"
  },
  "language_info": {
   "codemirror_mode": {
    "name": "ipython",
    "version": 3
   },
   "file_extension": ".py",
   "mimetype": "text/x-python",
   "name": "python",
   "nbconvert_exporter": "python",
   "pygments_lexer": "ipython3",
   "version": "3.12.3"
  }
 },
 "nbformat": 4,
 "nbformat_minor": 2
}
