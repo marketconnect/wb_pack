{
 "cells": [
  {
   "cell_type": "code",
   "execution_count": 1,
   "metadata": {},
   "outputs": [],
   "source": [
    "import sqlite3\n",
    "import requests\n",
    "import time\n",
    "\n",
    "import os"
   ]
  },
  {
   "cell_type": "code",
   "execution_count": 3,
   "metadata": {},
   "outputs": [],
   "source": [
    "WB_TOKEN = os.getenv('WB_TOKEN')\n",
    "DB_NAME = \"zip.db\""
   ]
  },
  {
   "cell_type": "code",
   "execution_count": 4,
   "metadata": {},
   "outputs": [
    {
     "name": "stdout",
     "output_type": "stream",
     "text": [
      "✅ Успешно обновлены цены и скидки для 5 товаров\n"
     ]
    }
   ],
   "source": [
    "# Параметры подключения к базе\n",
    "\n",
    "WB_API_URL = \"https://discounts-prices-api.wildberries.ru/api/v2/upload/task\"\n",
    "HEADERS = {\"Authorization\": f\"Bearer {WB_TOKEN}\", \"Content-Type\": \"application/json\"}\n",
    "\n",
    "# Подключение к базе и выборка записей\n",
    "conn = sqlite3.connect(DB_NAME)\n",
    "cursor = conn.cursor()\n",
    "\n",
    "query = \"\"\"\n",
    "    SELECT nm_id, new_price, new_discount\n",
    "    FROM products\n",
    "    WHERE available_count = 5\n",
    "\"\"\"\n",
    "cursor.execute(query)\n",
    "rows = cursor.fetchall()\n",
    "conn.close()\n",
    "\n",
    "# Формируем список товаров для обновления цен и скидок\n",
    "goods_data = [{\"nmID\": nm_id, \"price\": new_price, \"discount\": new_discount} for nm_id, new_price, new_discount in rows]\n",
    "\n",
    "# Отправка данных батчами по 1000 товаров (API поддерживает максимум 1000 за запрос)\n",
    "BATCH_SIZE = 1000\n",
    "REQUEST_LIMIT = 10  # Максимум 10 запросов за 6 секунд\n",
    "REQUEST_INTERVAL = 6 / REQUEST_LIMIT  # Интервал между запросами\n",
    "\n",
    "for i in range(0, len(goods_data), BATCH_SIZE):\n",
    "    batch = goods_data[i:i + BATCH_SIZE]\n",
    "\n",
    "    payload = {\"data\": batch}\n",
    "    response = requests.post(WB_API_URL, json=payload, headers=HEADERS)\n",
    "\n",
    "    if response.status_code == 200:\n",
    "        print(f\"✅ Успешно обновлены цены и скидки для {len(batch)} товаров\")\n",
    "    else:\n",
    "        print(f\"❌ Ошибка при обновлении: {response.text}\")\n",
    "\n",
    "    time.sleep(REQUEST_INTERVAL)  # Задержка для соблюдения лимита API\n"
   ]
  },
  {
   "cell_type": "code",
   "execution_count": 5,
   "metadata": {},
   "outputs": [],
   "source": [
    "\n",
    "WB_API_N_URL = \"https://marketplace-api.wildberries.ru/api/v3/stocks/{warehouseId}\"\n",
    "WAREHOUSE_ID = 1283008\n"
   ]
  },
  {
   "cell_type": "code",
   "execution_count": 6,
   "metadata": {},
   "outputs": [],
   "source": [
    "conn = sqlite3.connect(DB_NAME)\n",
    "cursor = conn.cursor()\n",
    "\n",
    "query = \"\"\"\n",
    "    SELECT skus, pcs, available_count\n",
    "    FROM products\n",
    "    WHERE skus IS NOT NULL\n",
    "\"\"\"\n",
    "cursor.execute(query)\n",
    "rows = cursor.fetchall()\n",
    "conn.close()\n",
    "\n",
    "# Формируем список остатков\n",
    "stocks_data = [\n",
    "    {\n",
    "        \"sku\": skus,\n",
    "        \"amount\": (\n",
    "            5 if available_count == 5 else\n",
    "            0\n",
    "        )\n",
    "    }\n",
    "    for skus, pcs, available_count in rows\n",
    "]"
   ]
  },
  {
   "cell_type": "code",
   "execution_count": 7,
   "metadata": {},
   "outputs": [
    {
     "data": {
      "text/plain": [
       "[{'sku': '2042718081924', 'amount': 0},\n",
       " {'sku': '2042718081801', 'amount': 5},\n",
       " {'sku': '2042718081894', 'amount': 0},\n",
       " {'sku': '2042718081887', 'amount': 0},\n",
       " {'sku': '2042718081856', 'amount': 5},\n",
       " {'sku': '2042718081832', 'amount': 0},\n",
       " {'sku': '2042718081931', 'amount': 5},\n",
       " {'sku': '2042718081795', 'amount': 0},\n",
       " {'sku': '2042718081870', 'amount': 5},\n",
       " {'sku': '2042718081788', 'amount': 0},\n",
       " {'sku': '2042718081900', 'amount': 5}]"
      ]
     },
     "execution_count": 7,
     "metadata": {},
     "output_type": "execute_result"
    }
   ],
   "source": [
    "stocks_data"
   ]
  },
  {
   "cell_type": "code",
   "execution_count": null,
   "metadata": {},
   "outputs": [
    {
     "name": "stdout",
     "output_type": "stream",
     "text": [
      "✅ Успешно обновлены остатки для 11 товаров\n"
     ]
    }
   ],
   "source": [
    "BATCH_SIZE = 1000\n",
    "REQUEST_LIMIT = 300\n",
    "REQUEST_INTERVAL = 60 / REQUEST_LIMIT\n",
    "\n",
    "for i in range(0, len(stocks_data), BATCH_SIZE):\n",
    "    batch = stocks_data[i:i + BATCH_SIZE]\n",
    "\n",
    "    payload = {\"stocks\": batch}\n",
    "    url = WB_API_N_URL.format(warehouseId=WAREHOUSE_ID)\n",
    "    response = requests.put(url, json=payload, headers=HEADERS)\n",
    "\n",
    "    if response.status_code == 204:\n",
    "        print(f\"✅ Успешно обновлены остатки для {len(batch)} товаров\")\n",
    "    else:\n",
    "        print(f\"❌ Ошибка при обновлении: {response.text}\")\n",
    "\n",
    "    time.sleep(REQUEST_INTERVAL)"
   ]
  },
  {
   "cell_type": "code",
   "execution_count": null,
   "metadata": {},
   "outputs": [],
   "source": []
  },
  {
   "cell_type": "code",
   "execution_count": null,
   "metadata": {},
   "outputs": [],
   "source": []
  }
 ],
 "metadata": {
  "kernelspec": {
   "display_name": "venv",
   "language": "python",
   "name": "python3"
  },
  "language_info": {
   "codemirror_mode": {
    "name": "ipython",
    "version": 3
   },
   "file_extension": ".py",
   "mimetype": "text/x-python",
   "name": "python",
   "nbconvert_exporter": "python",
   "pygments_lexer": "ipython3",
   "version": "3.12.3"
  }
 },
 "nbformat": 4,
 "nbformat_minor": 2
}
