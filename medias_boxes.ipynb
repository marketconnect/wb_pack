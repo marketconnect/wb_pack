{
 "cells": [
  {
   "cell_type": "code",
   "execution_count": 1,
   "metadata": {},
   "outputs": [],
   "source": [
    "import os\n",
    "import requests\n",
    "import json"
   ]
  },
  {
   "cell_type": "code",
   "execution_count": 31,
   "metadata": {},
   "outputs": [],
   "source": [
    "WB_TOKEN = os.getenv('WB_TOKEN')\n",
    "\n",
    "\n",
    "def upload_single_image_to_wb(file_path, nm_id, api_key, photo_number=1):\n",
    "  \n",
    "    url = \"https://content-api.wildberries.ru/content/v3/media/file\"\n",
    "    \n",
    "    headers = {\n",
    "        \"Authorization\": api_key,\n",
    "        \"X-Nm-Id\": str(nm_id),\n",
    "        \"X-Photo-Number\": str(photo_number)\n",
    "    }\n",
    "    \n",
    "    with open(file_path, \"rb\") as f:\n",
    "        files = {\n",
    "            \"uploadfile\": (os.path.basename(file_path), f, \"image/jpeg\")\n",
    "        }\n",
    "        \n",
    "        try:\n",
    "            response = requests.post(url, headers=headers, files=files)\n",
    "        except requests.RequestException as e:\n",
    "            print(f\"Ошибка при отправке запроса: {e}\")\n",
    "            return\n",
    "        \n",
    "        if response.status_code == 200:\n",
    "            resp_json = response.json()\n",
    "            if not resp_json.get(\"error\", False):\n",
    "                print(f\"Успешно загружено изображение '{os.path.basename(file_path)}' на nmID={nm_id}.\")\n",
    "            else:\n",
    "                print(f\"Ошибка Wildberries при загрузке: {resp_json.get('errorText', 'Неизвестная ошибка')}\")\n",
    "        else:\n",
    "            print(f\"Ошибка ответа сервера. Код: {response.status_code}, файл: {os.path.basename(file_path)}\")\n",
    "\n",
    "def process_vendor_list(vendor_list, images_folder, api_key):\n",
    "    \"\"\"\n",
    "    Проходит по списку vendor_list, проверяет, существует ли соответствующий файл в images_folder,\n",
    "    и при наличии вызывает функцию загрузки на WB.\n",
    "    \n",
    "    :param vendor_list: Список словарей вида [{'nmID': ..., 'vendorCode': 'box_XXXX_YY'}, ...]\n",
    "    :param images_folder: Путь к папке, где лежат файлы (например, 'images_900_1200').\n",
    "    :param api_key: API-ключ для Wildberries.\n",
    "    \"\"\"\n",
    "    for item in vendor_list:\n",
    "        nm_id = item[\"nmID\"]\n",
    "        vendor_code = item[\"vendorCode\"]\n",
    "        \n",
    "        # Ожидаем формат vendorCode = \"box_9604677_30\"\n",
    "        # Удаляем \"box_\" в начале:\n",
    "        if vendor_code.startswith(\"box_\"):\n",
    "            code_part = vendor_code[4:]  # \"9604677_30\"\n",
    "            # Разделяем по символу \"_\"\n",
    "            parts = code_part.split(\"_\", maxsplit=1)\n",
    "            if len(parts) == 2:\n",
    "                product_id, quantity_str = parts\n",
    "                # Формируем имя файла: \"9604677-30.jpg\"\n",
    "                image_name = f\"{product_id}-{quantity_str}.jpg\"\n",
    "                file_path = os.path.join(images_folder, image_name)\n",
    "                \n",
    "                # Проверяем, существует ли файл\n",
    "                if os.path.isfile(file_path):\n",
    "                    print(f\"Файл '{image_name}' найден. Загружаем на nmID={nm_id}...\")\n",
    "                    upload_single_image_to_wb(file_path, nm_id, api_key, photo_number=1)\n",
    "                else:\n",
    "                    print(f\"Файл '{image_name}' не найден в папке '{images_folder}'. Пропускаем.\")\n",
    "            else:\n",
    "                print(f\"Неподходящий формат vendorCode: '{vendor_code}'. Пропускаем.\")\n",
    "        else:\n",
    "            print(f\"Неподходящий формат vendorCode: '{vendor_code}'. Пропускаем.\")\n"
   ]
  },
  {
   "cell_type": "code",
   "execution_count": 32,
   "metadata": {},
   "outputs": [],
   "source": [
    "all_cards_list = \"https://content-api.wildberries.ru/content/v2/get/cards/list\"\n",
    "headers = {\n",
    "    \"Authorization\": WB_TOKEN,\n",
    "}\n",
    "body =             {\n",
    "          \"settings\": {                      \n",
    "            \"cursor\": {\n",
    "              \"limit\": 100\n",
    "            },\n",
    "            \"filter\": {\n",
    "              \"withPhoto\": 0\n",
    "            }\n",
    "          }\n",
    "        }\n",
    "\n",
    "\n",
    "resp = requests.post(all_cards_list, headers=headers, json=body)"
   ]
  },
  {
   "cell_type": "code",
   "execution_count": 33,
   "metadata": {},
   "outputs": [
    {
     "data": {
      "text/plain": [
       "{'cards': [], 'cursor': {'nmID': 0, 'total': 0}}"
      ]
     },
     "execution_count": 33,
     "metadata": {},
     "output_type": "execute_result"
    }
   ],
   "source": [
    "d = json.loads(resp.text)\n",
    "d"
   ]
  },
  {
   "cell_type": "code",
   "execution_count": 34,
   "metadata": {},
   "outputs": [],
   "source": [
    "newNmIdVendorCodes = [{\"nmID\": row[\"nmID\"], \"vendorCode\": row[\"vendorCode\"]} for row in d[\"cards\"]]"
   ]
  },
  {
   "cell_type": "code",
   "execution_count": 35,
   "metadata": {},
   "outputs": [
    {
     "data": {
      "text/plain": [
       "[]"
      ]
     },
     "execution_count": 35,
     "metadata": {},
     "output_type": "execute_result"
    }
   ],
   "source": [
    "newNmIdVendorCodes"
   ]
  },
  {
   "cell_type": "code",
   "execution_count": 36,
   "metadata": {},
   "outputs": [],
   "source": [
    "process_vendor_list(newNmIdVendorCodes, \"./images_900_1200\", WB_TOKEN)"
   ]
  },
  {
   "cell_type": "code",
   "execution_count": null,
   "metadata": {},
   "outputs": [],
   "source": []
  }
 ],
 "metadata": {
  "kernelspec": {
   "display_name": "venv",
   "language": "python",
   "name": "python3"
  },
  "language_info": {
   "codemirror_mode": {
    "name": "ipython",
    "version": 3
   },
   "file_extension": ".py",
   "mimetype": "text/x-python",
   "name": "python",
   "nbconvert_exporter": "python",
   "pygments_lexer": "ipython3",
   "version": "3.12.3"
  }
 },
 "nbformat": 4,
 "nbformat_minor": 2
}
