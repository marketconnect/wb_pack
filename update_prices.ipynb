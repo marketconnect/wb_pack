{
 "cells": [
  {
   "cell_type": "code",
   "execution_count": 10,
   "metadata": {},
   "outputs": [],
   "source": [
    "import sqlite3\n",
    "import requests\n",
    "import time\n",
    "\n",
    "import os"
   ]
  },
  {
   "cell_type": "code",
   "execution_count": 11,
   "metadata": {},
   "outputs": [],
   "source": [
    "\n",
    "WB_TOKEN = os.getenv('WB_TOKEN')\n",
    "DB_NAME = \"zip.db\""
   ]
  },
  {
   "cell_type": "code",
   "execution_count": 12,
   "metadata": {},
   "outputs": [
    {
     "data": {
      "text/plain": [
       "'zip.db'"
      ]
     },
     "execution_count": 12,
     "metadata": {},
     "output_type": "execute_result"
    }
   ],
   "source": [
    "DB_NAME"
   ]
  },
  {
   "cell_type": "code",
   "execution_count": 13,
   "metadata": {},
   "outputs": [],
   "source": [
    "# Параметры подключения к базе\n",
    "\n",
    "WB_API_URL = \"https://discounts-prices-api.wildberries.ru/api/v2/upload/task\"\n",
    "HEADERS = {\"Authorization\": f\"Bearer {WB_TOKEN}\", \"Content-Type\": \"application/json\"}\n",
    "\n",
    "# Подключение к базе и выборка записей\n",
    "conn = sqlite3.connect(DB_NAME)\n",
    "cursor = conn.cursor()\n",
    "\n",
    "query = \"\"\"\n",
    "    SELECT nm_id, new_price, new_discount\n",
    "    FROM products\n",
    "    WHERE available_count = 5\n",
    "\"\"\"\n",
    "cursor.execute(query)\n",
    "rows = cursor.fetchall()\n",
    "conn.close()\n",
    "\n",
    "# Формируем список товаров для обновления цен и скидок\n",
    "goods_data = [{\"nmID\": nm_id, \"price\": new_price, \"discount\": new_discount} for nm_id, new_price, new_discount in rows]\n",
    "\n",
    "# Отправка данных батчами по 1000 товаров (API поддерживает максимум 1000 за запрос)\n"
   ]
  },
  {
   "cell_type": "code",
   "execution_count": 14,
   "metadata": {},
   "outputs": [
    {
     "name": "stdout",
     "output_type": "stream",
     "text": [
      "✅ Успешно обновлены цены и скидки для 8 товаров\n"
     ]
    }
   ],
   "source": [
    "BATCH_SIZE = 1000\n",
    "REQUEST_LIMIT = 10  # Максимум 10 запросов за 6 секунд\n",
    "REQUEST_INTERVAL = 6 / REQUEST_LIMIT  # Интервал между запросами\n",
    "\n",
    "for i in range(0, len(goods_data), BATCH_SIZE):\n",
    "    batch = goods_data[i:i + BATCH_SIZE]\n",
    "\n",
    "    payload = {\"data\": batch}\n",
    "    response = requests.post(WB_API_URL, json=payload, headers=HEADERS)\n",
    "\n",
    "    if response.status_code == 200:\n",
    "        print(f\"✅ Успешно обновлены цены и скидки для {len(batch)} товаров\")\n",
    "    else:\n",
    "        print(f\"❌ Ошибка при обновлении: {response.text}\")\n",
    "\n",
    "    time.sleep(REQUEST_INTERVAL)  # Задержка для соблюдения лимита API\n"
   ]
  },
  {
   "cell_type": "code",
   "execution_count": 15,
   "metadata": {},
   "outputs": [],
   "source": [
    "\n",
    "WB_API_N_URL = \"https://marketplace-api.wildberries.ru/api/v3/stocks/{warehouseId}\"\n",
    "WAREHOUSE_ID = 1283008\n"
   ]
  },
  {
   "cell_type": "code",
   "execution_count": 18,
   "metadata": {},
   "outputs": [],
   "source": [
    "conn = sqlite3.connect(DB_NAME)\n",
    "cursor = conn.cursor()\n",
    "\n",
    "query = \"\"\"\n",
    "    SELECT skus, pcs, available_count\n",
    "    FROM products\n",
    "    WHERE skus IS NOT NULL\n",
    "\"\"\"\n",
    "cursor.execute(query)\n",
    "rows = cursor.fetchall()\n",
    "conn.close()\n",
    "\n",
    "# Формируем список остатков\n",
    "stocks_data = [\n",
    "    {\n",
    "        \"sku\": skus,\n",
    "        \"amount\": (\n",
    "            10 if available_count == 5 else\n",
    "            0\n",
    "        )\n",
    "    }\n",
    "    for skus, pcs, available_count in rows\n",
    "]"
   ]
  },
  {
   "cell_type": "code",
   "execution_count": 19,
   "metadata": {},
   "outputs": [
    {
     "data": {
      "text/plain": [
       "[{'sku': '2042726157567', 'amount': 10},\n",
       " {'sku': '2042726157376', 'amount': 10},\n",
       " {'sku': '2042726157543', 'amount': 10},\n",
       " {'sku': '2042726157444', 'amount': 10},\n",
       " {'sku': '2042726157451', 'amount': 10},\n",
       " {'sku': '2042726157468', 'amount': 10},\n",
       " {'sku': '2042726157536', 'amount': 10},\n",
       " {'sku': '2042726157390', 'amount': 10},\n",
       " {'sku': '2042726157406', 'amount': 0},\n",
       " {'sku': '2042726157482', 'amount': 0},\n",
       " {'sku': '2042726157505', 'amount': 0},\n",
       " {'sku': '2042726157499', 'amount': 0},\n",
       " {'sku': '2042726157369', 'amount': 0},\n",
       " {'sku': '2042726157437', 'amount': 0},\n",
       " {'sku': '2042726157420', 'amount': 0},\n",
       " {'sku': '2042726157529', 'amount': 0},\n",
       " {'sku': '2042726157475', 'amount': 0},\n",
       " {'sku': '2042726157512', 'amount': 0},\n",
       " {'sku': '2042726157550', 'amount': 0}]"
      ]
     },
     "execution_count": 19,
     "metadata": {},
     "output_type": "execute_result"
    }
   ],
   "source": [
    "stocks_data"
   ]
  },
  {
   "cell_type": "code",
   "execution_count": 20,
   "metadata": {},
   "outputs": [
    {
     "name": "stdout",
     "output_type": "stream",
     "text": [
      "✅ Успешно обновлены остатки для 19 товаров\n"
     ]
    }
   ],
   "source": [
    "BATCH_SIZE = 1000\n",
    "REQUEST_LIMIT = 300  # Максимум 300 запросов в минуту\n",
    "REQUEST_INTERVAL = 60 / REQUEST_LIMIT  # Интервал между запросами\n",
    "\n",
    "for i in range(0, len(stocks_data), BATCH_SIZE):\n",
    "    batch = stocks_data[i:i + BATCH_SIZE]\n",
    "\n",
    "    payload = {\"stocks\": batch}\n",
    "    url = WB_API_N_URL.format(warehouseId=WAREHOUSE_ID)\n",
    "    response = requests.put(url, json=payload, headers=HEADERS)\n",
    "\n",
    "    if response.status_code == 204:\n",
    "        print(f\"✅ Успешно обновлены остатки для {len(batch)} товаров\")\n",
    "    else:\n",
    "        print(f\"❌ Ошибка при обновлении: {response.text}\")\n",
    "\n",
    "    time.sleep(REQUEST_INTERVAL)  # Задержка для соблюдения лимита API"
   ]
  },
  {
   "cell_type": "code",
   "execution_count": null,
   "metadata": {},
   "outputs": [],
   "source": []
  },
  {
   "cell_type": "code",
   "execution_count": null,
   "metadata": {},
   "outputs": [],
   "source": []
  }
 ],
 "metadata": {
  "kernelspec": {
   "display_name": "venv",
   "language": "python",
   "name": "python3"
  },
  "language_info": {
   "codemirror_mode": {
    "name": "ipython",
    "version": 3
   },
   "file_extension": ".py",
   "mimetype": "text/x-python",
   "name": "python",
   "nbconvert_exporter": "python",
   "pygments_lexer": "ipython3",
   "version": "3.12.3"
  }
 },
 "nbformat": 4,
 "nbformat_minor": 2
}
